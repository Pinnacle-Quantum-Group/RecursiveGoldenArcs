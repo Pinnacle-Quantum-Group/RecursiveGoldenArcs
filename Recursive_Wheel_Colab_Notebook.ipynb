#!/usr/bin/env python3
# -*- coding: utf-8 -*-
"""
# =============================================================================
#  Recursive Wheel Paradox: Fractal Tensor Model & Visualization Framework
#
#  © 2025 Michael A. Doran Jr. | Pinnacle Quantum Group™
#  All Rights Reserved.
#
#  Intellectual Property Notice:
#  This source code, mathematical framework, and associated visualizations
#  are proprietary works protected under U.S. and international copyright,
#  trade secret, and intellectual property laws.
#
#  Licensed Use:
#  This software is released under the Creative Commons Attribution-NonCommercial-ShareAlike 4.0 International License (CC BY-NC-SA 4.0).
#  - You may use, adapt, and share this work non-commercially with attribution.
#  - Commercial use, military application, or derivative work for government
#    defense contracts is strictly prohibited without explicit written permission.
#
#  Dual-Use Disclosure:
#  This research and codebase may contain dual-use implications relevant to
#  synchronization, recursive field modeling, and emergent autonomous systems.
#  Use is restricted in accordance with export compliance regulations (ITAR/EAR).
#
#  Contact:
#  For licensing, commercial rights, joint research, or export clearance:
#  contracts@pqg.info | michael@pqg.info
#
#  Disclosure ID: PQG-RW-0425-AXF
# =============================================================================
"""

import numpy as np
import matplotlib.pyplot as plt
from matplotlib import cm, colors
import ipywidgets as widgets
from IPython.display import display, clear_output, HTML, Markdown
from matplotlib.animation import FuncAnimation
from mpl_toolkits.mplot3d import Axes3D

# Set figure aesthetics for publication quality
# Use a more compatible style
try:
    plt.style.use('seaborn-v0_8-whitegrid')  # For newer versions of seaborn
except:
    try:
        plt.style.use('seaborn')  # If specific style not found, use general seaborn
    except:
        print("Note: Using default matplotlib style as seaborn styles not found")

plt.rcParams['figure.figsize'] = [12, 8]
plt.rcParams['font.family'] = 'serif'
plt.rcParams['font.size'] = 12
plt.rcParams['axes.labelsize'] = 14
plt.rcParams['axes.titlesize'] = 16
plt.rcParams['xtick.labelsize'] = 12
plt.rcParams['ytick.labelsize'] = 12

# Define core recursive density function
def recursive_density(r, theta, r_inner, r_outer, recursion_depth, freq):
    """
    Calculate recursive density at point (r, theta)

    Parameters:
    - r: radius coordinate
    - theta: angle coordinate
    - r_inner: inner wheel radius
    - r_outer: outer wheel radius
    - recursion_depth: strength of recursive coupling
    - freq: angular frequency of density variation

    Returns:
    - density value at point (r, theta)
    """
    # Normalize radius to [0,1] range
    r_norm = (r - r_inner) / (r_outer - r_inner)

    # Base density with radial gradient (higher at inner wheel)
    base_density = 1.0 + recursion_depth * (1 - r_norm)

    # Add recursive fractal components
    recursive_term = 0
    for i in range(1, int(recursion_depth * 5) + 1):
        # Higher frequency components for deeper recursion levels
        recursive_term += (1/i) * np.sin(freq * i * theta + i * r_norm * np.pi)

    # Scale recursive term by depth parameter
    recursive_term *= (recursion_depth * 0.2)

    # Combine base density with recursive component
    return base_density + recursive_term

# Define deformation function (delta)
def surface_deformation(r, theta, r_inner, r_outer, recursion_depth, freq):
    """
    Calculate surface deformation (delta) at point (r, theta)

    This represents how much the wheel deforms the surface or "stretches"
    as it rolls along the path.
    """
    # Get density at this point
    density = recursive_density(r, theta, r_inner, r_outer, recursion_depth, freq)

    # Normalize radius
    r_norm = (r - r_inner) / (r_outer - r_inner)

    # Compute deformation (inverse relationship with density)
    # Higher density = less deformation (compression)
    deformation = 1.0 / density

    # Add phase shift based on radius (inner and outer wheels slightly out of phase)
    phase_term = recursion_depth * 0.1 * np.sin(freq * 0.5 * theta + r_norm * np.pi)

    return deformation + phase_term

def plot_density_field(r_inner, r_outer, recursion_depth, frequency):
    """Generate density field visualization with given parameters"""
    fig, axs = plt.subplots(1, 2, figsize=(15, 7))

    # Create a grid of r, theta values
    r = np.linspace(r_inner, r_outer, 100)
    theta = np.linspace(0, 2*np.pi, 100)
    r_grid, theta_grid = np.meshgrid(r, theta)

    # Calculate density values
    density = np.zeros_like(r_grid)
    for i in range(r_grid.shape[0]):
        for j in range(r_grid.shape[1]):
            density[i, j] = recursive_density(
                r_grid[i, j], theta_grid[i, j],
                r_inner, r_outer, recursion_depth, frequency
            )

    # Convert to Cartesian for plotting
    x = r_grid * np.cos(theta_grid)
    y = r_grid * np.sin(theta_grid)

    # Polar contour plot (left)
    contour = axs[0].contourf(x, y, density, 20, cmap='viridis')
    axs[0].set_aspect('equal')
    axs[0].set_title('Recursive Density Field $\\rho(r, \\theta)$')
    axs[0].set_xlabel('x')
    axs[0].set_ylabel('y')
    fig.colorbar(contour, ax=axs[0], label='Density')

    # Draw inner and outer wheel outlines
    inner_circle = plt.Circle((0, 0), r_inner, fill=False, color='red', linestyle='-', linewidth=2)
    outer_circle = plt.Circle((0, 0), r_outer, fill=False, color='blue', linestyle='-', linewidth=2)
    axs[0].add_artist(inner_circle)
    axs[0].add_artist(outer_circle)

    # Radial slice plot (right)
    theta_slice = 0  # Take slice at theta = 0
    r_slice = np.linspace(r_inner, r_outer, 200)
    density_slice = [recursive_density(r, theta_slice, r_inner, r_outer, recursion_depth, frequency)
                    for r in r_slice]

    axs[1].plot(r_slice, density_slice, 'k-', linewidth=2)
    axs[1].set_title('Radial Density Slice at $\\theta = 0$')
    axs[1].set_xlabel('Radius $r$')
    axs[1].set_ylabel('Density $\\rho(r, 0)$')
    axs[1].grid(True)
    axs[1].axvline(x=r_inner, color='red', linestyle='--')
    axs[1].axvline(x=r_outer, color='blue', linestyle='--')

    plt.tight_layout()

    # Print key metrics
    inner_avg_density = np.mean([recursive_density(r_inner, t, r_inner, r_outer, recursion_depth, frequency)
                                for t in np.linspace(0, 2*np.pi, 50)])
    outer_avg_density = np.mean([recursive_density(r_outer, t, r_inner, r_outer, recursion_depth, frequency)
                               for t in np.linspace(0, 2*np.pi, 50)])

    print(f"Average density at inner wheel: {inner_avg_density:.4f}")
    print(f"Average density at outer wheel: {outer_avg_density:.4f}")
    print(f"Density ratio (outer/inner): {outer_avg_density/inner_avg_density:.4f}")
    print(f"Theoretical circumference ratio: {r_outer/r_inner:.4f}")
    print(f"Effective circumference ratio (accounting for density): {(r_outer*outer_avg_density)/(r_inner*inner_avg_density):.4f}")

    return fig

def animate_rolling_wheels(r_inner, r_outer, recursion_depth, frequency):
    """Create animation of rolling wheels with recursive density effects"""
    fig, ax = plt.subplots(figsize=(12, 6))

    # Surface line
    surface_x = np.linspace(-10, 10, 1000)
    surface_y = np.zeros_like(surface_x)

    # Initial positions
    wheel_center_x = 0
    wheel_center_y = r_outer

    # Create the plot elements
    surface_line, = ax.plot(surface_x, surface_y, 'k-', linewidth=2)
    inner_circle, = ax.plot([], [], 'r-', linewidth=2)
    outer_circle, = ax.plot([], [], 'b-', linewidth=2)
    inner_trace, = ax.plot([], [], 'r--', linewidth=1, alpha=0.6)
    outer_trace, = ax.plot([], [], 'b--', linewidth=1, alpha=0.6)
    inner_marker, = ax.plot([], [], 'ro', markersize=8)
    outer_marker, = ax.plot([], [], 'bo', markersize=8)

    # Reference line to show "expected" travel distance after one rotation
    ax.axvline(x=2*np.pi*r_outer, color='blue', linestyle=':', alpha=0.5)
    ax.axvline(x=2*np.pi*r_inner, color='red', linestyle=':', alpha=0.5)

    # Set axis limits
    ax.set_xlim(-1, 2*np.pi*r_outer + 1)
    ax.set_ylim(-0.5, r_outer * 1.5)
    ax.set_aspect('equal')
    ax.set_title('Recursive Wheel Rolling Animation')
    ax.set_xlabel('Distance')
    ax.set_ylabel('Height')
    ax.grid(True)

    # Add legend
    ax.legend(['Surface', 'Inner Wheel', 'Outer Wheel', 'Inner Trace', 'Outer Trace',
              'Inner Contact Point', 'Outer Contact Point',
              f'Expected Outer ({2*np.pi*r_outer:.2f})', f'Expected Inner ({2*np.pi*r_inner:.2f})'],
              loc='upper left')

    # Store trace points
    inner_trace_x, inner_trace_y = [], []
    outer_trace_x, outer_trace_y = [], []

    # Animation update function
    def update(frame):
        # Angle of rotation (proportional to frame)
        theta = frame * 0.1

        # Calculate wheel position
        # For classical rolling, distance would be r_outer * theta
        # With recursive density, we integrate the density-adjusted displacement

        # Approximate the integration with a sum
        angle_steps = 50
        delta_theta = theta / angle_steps

        # Calculate deformation effect on displacement
        total_displacement = 0
        for i in range(angle_steps):
            t = i * delta_theta
            # Average deformation across outer rim for this small angular step
            avg_deformation = surface_deformation(r_outer, t, r_inner, r_outer, recursion_depth, frequency)
            # Displacement is proportional to deformation and angle step
            total_displacement += r_outer * avg_deformation * delta_theta

        wheel_center_x = total_displacement
        wheel_center_y = r_outer

        # Calculate wheel outlines
        angles = np.linspace(0, 2*np.pi, 100)
        inner_x = wheel_center_x + r_inner * np.cos(angles)
        inner_y = wheel_center_y + r_inner * np.sin(angles)
        outer_x = wheel_center_x + r_outer * np.cos(angles)
        outer_y = wheel_center_y + r_outer * np.sin(angles)

        # Update wheel positions
        inner_circle.set_data(inner_x, inner_y)
        outer_circle.set_data(outer_x, outer_y)

        # Calculate contact points on the surface
        inner_contact_x = wheel_center_x + r_inner * np.cos(np.pi/2 + theta)
        inner_contact_y = wheel_center_y + r_inner * np.sin(np.pi/2 + theta)
        outer_contact_x = wheel_center_x + r_outer * np.cos(np.pi/2 + theta)
        outer_contact_y = wheel_center_y + r_outer * np.sin(np.pi/2 + theta)

        # Add points to trace
        inner_trace_x.append(inner_contact_x)
        inner_trace_y.append(inner_contact_y)
        outer_trace_x.append(outer_contact_x)
        outer_trace_y.append(outer_contact_y)

        # Update traces and markers
        inner_trace.set_data(inner_trace_x, inner_trace_y)
        outer_trace.set_data(outer_trace_x, outer_trace_y)
        inner_marker.set_data([inner_contact_x], [inner_contact_y])
        outer_marker.set_data([outer_contact_x], [outer_contact_y])

        return inner_circle, outer_circle, inner_trace, outer_trace, inner_marker, outer_marker

    # Create animation
    frames = 100  # approximately half a complete rotation
    anim = FuncAnimation(fig, update, frames=frames, interval=50, blit=True)

    # Save to file option
    # anim.save('recursive_wheel_animation.gif', writer='pillow', fps=20)

    plt.close()  # Close the animation figure to prevent double display
    return anim, fig

def plot_3d_density_field(r_inner, r_outer, recursion_depth, frequency):
    """Create 3D visualization of the recursive density field"""
    fig = plt.figure(figsize=(12, 10))
    ax = fig.add_subplot(111, projection='3d')

    # Create a grid of r, theta values
    r = np.linspace(r_inner, r_outer, 50)
    theta = np.linspace(0, 2*np.pi, 100)
    r_grid, theta_grid = np.meshgrid(r, theta)

    # Convert to Cartesian for plotting
    x = r_grid * np.cos(theta_grid)
    y = r_grid * np.sin(theta_grid)

    # Calculate density values
    z = np.zeros_like(x)
    for i in range(x.shape[0]):
        for j in range(x.shape[1]):
            z[i, j] = recursive_density(r_grid[i, j], theta_grid[i, j],
                                       r_inner, r_outer, recursion_depth, frequency)

    # Create the surface plot
    surf = ax.plot_surface(x, y, z, cmap='viridis', alpha=0.8,
                          linewidth=0, antialiased=True)

    # Set labels and title
    ax.set_xlabel('X')
    ax.set_ylabel('Y')
    ax.set_zlabel('Density $\\rho(r, \\theta)$')
    ax.set_title('3D Recursive Density Field')

    # Add a color bar
    fig.colorbar(surf, ax=ax, shrink=0.5, aspect=5, label='Density')

    plt.tight_layout()

    # Calculate and display coupling tensor
    print("\nRecursive Coupling Tensor Analysis:")
    print("----------------------------------")
    coupling_values = []
    r_values = np.linspace(r_inner, r_outer, 10)

    for r_val in r_values:
        avg_density = np.mean([recursive_density(r_val, t, r_inner, r_outer, recursion_depth, frequency)
                              for t in np.linspace(0, 2*np.pi, 36)])
        inner_density = np.mean([recursive_density(r_inner, t, r_inner, r_outer, recursion_depth, frequency)
                                for t in np.linspace(0, 2*np.pi, 36)])
        coupling = avg_density / inner_density
        coupling_values.append(coupling)
        print(f"At radius r = {r_val:.2f}: F(r) = {coupling:.4f}")

    # Plot coupling tensor values
    fig2 = plt.figure(figsize=(10, 6))
    plt.plot(r_values, coupling_values, 'k-', linewidth=2)
    plt.axhline(y=1.0, color='r', linestyle='--', alpha=0.7)
    plt.xlabel('Radius (r)')
    plt.ylabel('Coupling Tensor F(r)')
    plt.title('Recursive Coupling Tensor F(r) = ρ_outer(r) / ρ_inner(r)')
    plt.grid(True)

    return fig, fig2

def show_conclusion():
    """Display the conclusion and theoretical implications"""
    print("\n" + "="*60)
    print("CONCLUSION AND IMPLICATIONS")
    print("="*60)
    print("""
The recursive density framework resolves Aristotle's Wheel Paradox by reframing
the problem in terms of fractal tensor calculus. Rather than treating the wheels
as simple geometric objects with fixed circumferences, we model them as recursive
attractor fields with variable density.

Key insights:

1. Recursive Attractor Fields: The wheel's edge is not a simple curve but a
   recursive attractor with density variations that adjust based on radius and angle.

2. Density-Displacement Relationship: The linear trace of each wheel is not
   proportional to its geometric circumference but to its recursive
   density-adjusted circumference.

3. Coupling Tensor: The relationship between inner and outer wheels is captured
   by the coupling tensor F(r), which quantifies how the recursive density
   varies across radii.

4. Resolution of Paradox: The apparent contradiction dissolves when we recognize
   that the equal linear displacement is an artifact of projection—in the recursive
   framework, the wheels still maintain their distinct identities and properties.

Theorem (Fractal Wheel Reconciliation):
Let two rigidly coupled wheels rotate together across a surface.
If the recursive density field across radii is variable,
then the apparent equivalence in linear trace is an artifact of projection—
and no contradiction of geometry arises.

As noted in the original formulation: "Infinity wasn't broken. The map was flat."
    """)

    print("\n" + "="*60)
    print("REFERENCES")
    print("="*60)
    print("""
1. Aristotle. (c. 350 BCE). Mechanica. (Original presentation of the wheel paradox)
2. Cantor, G. (1883). Grundlagen einer allgemeinen Mannigfaltigkeitslehre.
3. Mandelbrot, B. (1982). The Fractal Geometry of Nature. W.H. Freeman and Company.
4. Doran Jr., M.A. (2025). Fractal Tensor Calculus and Recursive Attractor Fields.
5. Doran Jr., M.A. (2025). Formal Recursive Proof of Aristotle's Wheel Paradox
   Under Fractal Density Fields and Recursive Attractor Topology.
    """)

def main():
    print("Recursive Wheel Paradox: A Post-Cantorian Approach")
    print("==================================================")
    print("\nThis script explores Aristotle's Wheel Paradox using recursive density fields.")
    print("Running in standalone mode. Set default parameters:\n")

    # Default parameters
    r_inner = 1.0
    r_outer = 2.0
    recursion_depth = 2.0
    frequency = 5

    print(f"Inner radius: {r_inner}")
    print(f"Outer radius: {r_outer}")
    print(f"Recursion depth: {recursion_depth}")
    print(f"Frequency: {frequency}")
    print("\nGenerating visualizations...")

    # Generate and display visualizations
    fig1 = plot_density_field(r_inner, r_outer, recursion_depth, frequency)
    plt.figure(fig1.number)
    plt.show()

    print("\nGenerating 3D density field...")
    fig3, fig4 = plot_3d_density_field(r_inner, r_outer, recursion_depth, frequency)
    plt.figure(fig3.number)
    plt.show()
    plt.figure(fig4.number)
    plt.show()

    print("\nGenerating animation...")
    anim, fig_anim = animate_rolling_wheels(r_inner, r_outer, recursion_depth, frequency)

    # Display the animation figure
    plt.figure(fig_anim.number)
    plt.show()

    # Save the animation to a file
    # anim.save('recursive_wheel_animation.gif', writer='pillow', fps=20)
    print("Animation ready. To save to a file, uncomment the anim.save() line in the code.")

    # Show conclusion
    show_conclusion()

    print("\nEnd of demonstration.")

if __name__ == "__main__":
    main()
